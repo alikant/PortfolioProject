{
 "cells": [
  {
   "cell_type": "code",
   "execution_count": null,
   "metadata": {},
   "outputs": [],
   "source": [
    "# Import libraries\n",
    "\n",
    "from bs4 import BeautifulSoup as bs\n",
    "import pandas as pd\n",
    "import requests\n",
    "import time\n",
    "import datetime\n",
    "import smtplib"
   ]
  },
  {
   "cell_type": "code",
   "execution_count": null,
   "metadata": {},
   "outputs": [],
   "source": [
    "# Connect to Mediarmarkt website and obtain data\n",
    "\n",
    "URL = \"https://www.mediamarkt.de/de/product/_amazon-fire-7-tablet-16-gb-7-zoll-schwarz-2811291.html\"\n",
    "\n",
    "headers = {\"User-Agent\": \"Mozilla/5.0 (Windows NT 10.0; Win64; x64) AppleWebKit/537.36 (KHTML, like Gecko) Chrome/112.0.0.0 Safari/537.36\"}\n",
    "    \n",
    "page = requests.get(URL, headers=headers)    \n",
    "\n",
    "mysoup = bs(page.content)\n",
    "\n",
    "# Make HTML outcome pretty\n",
    "prettysoup = bs(mysoup.prettify())\n",
    "\n",
    "title = prettysoup.find('title').get_text()\n",
    "price = prettysoup.find(\"span\", {'class' :'sc-gikAfH fBksvO'}).get_text()\n",
    "\n",
    "print(title)\n",
    "print(price)"
   ]
  },
  {
   "cell_type": "code",
   "execution_count": null,
   "metadata": {},
   "outputs": [],
   "source": [
    "price = price.strip()[10:]\n",
    "print(price)"
   ]
  },
  {
   "cell_type": "code",
   "execution_count": null,
   "metadata": {},
   "outputs": [],
   "source": [
    "title = title.strip()\n",
    "print(title)"
   ]
  },
  {
   "cell_type": "code",
   "execution_count": null,
   "metadata": {},
   "outputs": [],
   "source": [
    "# Timestamp\n",
    "\n",
    "import datetime\n",
    "\n",
    "today = datetime.date.today()\n",
    "\n",
    "print(today)"
   ]
  },
  {
   "cell_type": "code",
   "execution_count": null,
   "metadata": {},
   "outputs": [],
   "source": [
    "# Create csv file and write headers and data into it\n",
    "\n",
    "import csv\n",
    "\n",
    "header = ['Title', 'Price', 'Date']\n",
    "data = [title, price, today]\n",
    "\n",
    "with open('mydata.csv', \"w\", newline='', encoding=\"UTF8\") as Fun:\n",
    "    writer = csv.writer(Fun)\n",
    "    writer.writerow(header)\n",
    "    writer.writerow(data)"
   ]
  },
  {
   "cell_type": "code",
   "execution_count": null,
   "metadata": {},
   "outputs": [],
   "source": [
    "df = pd.read_csv(r\"C:\\Users\\seven\\mydata.csv\")\n",
    "print(df)"
   ]
  },
  {
   "cell_type": "code",
   "execution_count": null,
   "metadata": {},
   "outputs": [],
   "source": [
    "# Appending\n",
    "\n",
    "with open('mydata.csv', \"w\", newline='', encoding=\"UTF8\") as Fun:\n",
    "    writer = csv.writer(Fun)\n",
    "    writer.writerow(data)"
   ]
  },
  {
   "cell_type": "code",
   "execution_count": null,
   "metadata": {},
   "outputs": [],
   "source": [
    "# Create a function with previous codes\n",
    "\n",
    "def price_checking():\n",
    "    URL = \"https://www.mediamarkt.de/de/product/_amazon-fire-7-tablet-16-gb-7-zoll-schwarz-2811291.html\"\n",
    "    \n",
    "    headers = {\"User-Agent\": \"Mozilla/5.0 (Windows NT 10.0; Win64; x64) AppleWebKit/537.36 (KHTML, like Gecko) Chrome/112.0.0.0 Safari/537.36\"}\n",
    "    \n",
    "    page = requests.get(URL, headers=headers)    \n",
    "    \n",
    "    mysoup = bs(page.content)\n",
    "    \n",
    "    # Make HTML outcome pretty\n",
    "    prettysoup = bs(mysoup.prettify())\n",
    "    \n",
    "    title = prettysoup.find('title').get_text()\n",
    "    price = prettysoup.find(\"span\", {'class' :'sc-gikAfH fBksvO'}).get_text()\n",
    "    \n",
    "    import datetime\n",
    "    today = datetime.date.today()\n",
    "    print(today)\n",
    "    \n",
    "    import csv\n",
    "    header = ['Title', 'Price', 'Date']\n",
    "    data = [title, price, today]\n",
    "        \n",
    "    with open('mydata.csv', \"w\", newline='', encoding=\"UTF8\") as Fun:\n",
    "        writer = csv.writer(Fun)\n",
    "        writer.writerow(data)"
   ]
  },
  {
   "cell_type": "code",
   "execution_count": null,
   "metadata": {},
   "outputs": [],
   "source": [
    "# Run price_cheking function for desired time\n",
    "\n",
    "while(True):\n",
    "    price_checking()\n",
    "    time.sleep(86400)"
   ]
  },
  {
   "cell_type": "code",
   "execution_count": null,
   "metadata": {},
   "outputs": [],
   "source": [
    "df = pd.read_csv(r\"C:\\Users\\seven\\mydata.csv\")\n",
    "print(df)"
   ]
  }
 ],
 "metadata": {
  "kernelspec": {
   "display_name": "Python 3",
   "language": "python",
   "name": "python3"
  },
  "language_info": {
   "codemirror_mode": {
    "name": "ipython",
    "version": 3
   },
   "file_extension": ".py",
   "mimetype": "text/x-python",
   "name": "python",
   "nbconvert_exporter": "python",
   "pygments_lexer": "ipython3",
   "version": "3.7.4"
  }
 },
 "nbformat": 4,
 "nbformat_minor": 2
}
